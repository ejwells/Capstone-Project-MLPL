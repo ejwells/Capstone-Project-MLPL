{
 "cells": [
  {
   "cell_type": "code",
   "execution_count": 1,
   "metadata": {
    "collapsed": false
   },
   "outputs": [
    {
     "name": "stderr",
     "output_type": "stream",
     "text": [
      "C:\\Users\\Findable Turnip\\Anaconda2\\lib\\site-packages\\ipykernel\\__main__.py:13: DeprecationWarning: The compiler package is deprecated and removed in Python 3.x.\n"
     ]
    }
   ],
   "source": [
    "import sys\n",
    "import re\n",
    "import os\n",
    "import csv\n",
    "import urllib\n",
    "import urllib3\n",
    "import ssl\n",
    "from pdfminer.pdfinterp import PDFResourceManager, PDFPageInterpreter\n",
    "from pdfminer.pdfpage import PDFPage\n",
    "from pdfminer.converter import XMLConverter, HTMLConverter, TextConverter\n",
    "from pdfminer.layout import LAParams\n",
    "from cStringIO import StringIO\n",
    "from compiler.ast import flatten"
   ]
  },
  {
   "cell_type": "code",
   "execution_count": 2,
   "metadata": {
    "collapsed": false
   },
   "outputs": [],
   "source": [
    "def cases(data):\n",
    "    check = data.find('\"rel\" : \"documents\"')\n",
    "    start_link = data.find('\"https:', check)\n",
    "    end_link = data.find('\"', start_link + 1)\n",
    "    link = data[start_link + 1:end_link]\n",
    "    return link, end_link"
   ]
  },
  {
   "cell_type": "code",
   "execution_count": 3,
   "metadata": {
    "collapsed": true
   },
   "outputs": [],
   "source": [
    "def get_all_cases(patentnumber):\n",
    "    webaddress = \"https://ptabdata.uspto.gov/ptab-api/trials?patentNumber=\"\n",
    "    url = webaddress+patentnumber\n",
    "    http = urllib3.PoolManager()\n",
    "    x = http.request('GET', url)\n",
    "    webdata = x.data\n",
    "    caseslinks = []\n",
    "    while True:\n",
    "        link, position = cases(webdata)\n",
    "        if link:\n",
    "            caseslinks.append(link)\n",
    "            webdata = webdata[position:]\n",
    "        else:\n",
    "            break\n",
    "    return caseslinks      "
   ]
  },
  {
   "cell_type": "code",
   "execution_count": 4,
   "metadata": {
    "collapsed": true
   },
   "outputs": [],
   "source": [
    "def pdfparser(data):\n",
    "    fp = file(data, 'rb')\n",
    "    rsrcmgr = PDFResourceManager()\n",
    "    retstr = StringIO()\n",
    "    codec = 'utf-8'\n",
    "    laparams = LAParams()\n",
    "    device = TextConverter(rsrcmgr, retstr, codec=codec, laparams=laparams)\n",
    "    # Create a PDF interpreter object.\n",
    "    interpreter = PDFPageInterpreter(rsrcmgr, device)\n",
    "    # Process each page contained in the document.\n",
    "\n",
    "    for page in PDFPage.get_pages(fp):\n",
    "        interpreter.process_page(page)\n",
    "        data =  retstr.getvalue()\n",
    "    fp.close()\n",
    "\n",
    "    return data"
   ]
  },
  {
   "cell_type": "code",
   "execution_count": 5,
   "metadata": {
    "collapsed": false
   },
   "outputs": [],
   "source": [
    "def downloadpdf(patentnumber, web):\n",
    "    inval_type = None\n",
    "    ctx = ssl.create_default_context()\n",
    "    ctx.check_hostname = False\n",
    "    ctx.verify_mode = ssl.CERT_NONE\n",
    "    \n",
    "    f = urllib.urlopen(web, context=ctx)\n",
    "    with open(\"temp.pdf\", \"wb\") as code:\n",
    "        code.write(f.read())\n",
    "    \n",
    "    text = pdfparser(\"temp.pdf\")\n",
    "    \n",
    "    searchObj = re.compile( r'\\b\\d,\\d\\d\\d,\\d\\d\\d',re.IGNORECASE)\n",
    "    numbers = searchObj.findall(text)\n",
    "    numbers = list(set(numbers))\n",
    "    patentnumber = patentnumber[:1] + ',' + patentnumber [1:4] + ',' + patentnumber[4:]\n",
    "    similar_numbers = [z for z in numbers if z != patentnumber]  \n",
    "    os.remove(\"temp.pdf\")\n",
    "    \n",
    "    return similar_numbers"
   ]
  },
  {
   "cell_type": "code",
   "execution_count": 6,
   "metadata": {
    "collapsed": true
   },
   "outputs": [],
   "source": [
    "def numbers_lookup(patentnumber, multiplelinks):\n",
    "    numbersfound = []\n",
    "    for link in multiplelinks:\n",
    "        http = urllib3.PoolManager()\n",
    "        y = http.request('GET', link)\n",
    "        casedata = y.data\n",
    "        start_pdf = casedata.find('\"type\" : \"final decision\"')\n",
    "        if start_pdf != -1:\n",
    "            rel_download = casedata.find('download', start_pdf)\n",
    "            start_pdflink = casedata.find('\"https:', rel_download)\n",
    "            end_pdflink = casedata.find('\"', start_pdflink + 1)\n",
    "            pdflink = casedata[start_pdflink + 1:end_pdflink]\n",
    "            tempvalue = downloadpdf(patentnumber, pdflink)\n",
    "            if tempvalue:\n",
    "                numbersfound.append(tempvalue)\n",
    "    \n",
    "    patentnumberfound = list(set(flatten(numbersfound)))\n",
    "    patentnumber = patentnumber[:1] + ',' + patentnumber [1:4] + ',' + patentnumber[4:]\n",
    "    patentnumberfound.insert(0, patentnumber)\n",
    "    \n",
    "    return patentnumberfound"
   ]
  },
  {
   "cell_type": "code",
   "execution_count": 7,
   "metadata": {
    "collapsed": false
   },
   "outputs": [],
   "source": [
    "def func(PN):\n",
    "    patentnumber = PN\n",
    "    a = get_all_cases(patentnumber)\n",
    "    b = numbers_lookup(patentnumber, a)\n",
    "    return b"
   ]
  },
  {
   "cell_type": "code",
   "execution_count": 8,
   "metadata": {
    "collapsed": false
   },
   "outputs": [
    {
     "name": "stderr",
     "output_type": "stream",
     "text": [
      "C:\\Users\\Findable Turnip\\Anaconda2\\lib\\site-packages\\urllib3\\connectionpool.py:730: InsecureRequestWarning: Unverified HTTPS request is being made. Adding certificate verification is strongly advised. See: https://urllib3.readthedocs.org/en/latest/security.html (This warning will only appear once by default.)\n",
      "  InsecureRequestWarning)\n"
     ]
    }
   ],
   "source": [
    "lines=range(643,719)\n",
    "i=0\n",
    "f = open('UniqInvalidatedPatent.txt')\n",
    "for line in f:\n",
    "    if i in lines:\n",
    "        line = line.strip()\n",
    "        data = func(line)\n",
    "        results = [j.replace(',','') for j in data]\n",
    "        with open('ResponsiblePatents.csv', 'a') as csvfile:\n",
    "            writer = csv.writer(csvfile, delimiter=\",\", lineterminator='\\n')\n",
    "            writer.writerow(results)\n",
    "    i+=1\n",
    "f.close()"
   ]
  },
  {
   "cell_type": "code",
   "execution_count": 9,
   "metadata": {
    "collapsed": false
   },
   "outputs": [
    {
     "name": "stdout",
     "output_type": "stream",
     "text": [
      "['5,478,650']\n"
     ]
    }
   ],
   "source": [
    "print func('5478650')"
   ]
  },
  {
   "cell_type": "code",
   "execution_count": null,
   "metadata": {
    "collapsed": true
   },
   "outputs": [],
   "source": []
  }
 ],
 "metadata": {
  "anaconda-cloud": {},
  "kernelspec": {
   "display_name": "Python [default]",
   "language": "python",
   "name": "python2"
  },
  "language_info": {
   "codemirror_mode": {
    "name": "ipython",
    "version": 2
   },
   "file_extension": ".py",
   "mimetype": "text/x-python",
   "name": "python",
   "nbconvert_exporter": "python",
   "pygments_lexer": "ipython2",
   "version": "2.7.12"
  }
 },
 "nbformat": 4,
 "nbformat_minor": 1
}

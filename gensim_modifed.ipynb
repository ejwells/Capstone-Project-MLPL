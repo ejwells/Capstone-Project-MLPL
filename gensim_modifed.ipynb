{
 "cells": [
  {
   "cell_type": "code",
   "execution_count": 21,
   "metadata": {
    "collapsed": false
   },
   "outputs": [],
   "source": [
    "import gensim\n",
    "from nltk.tokenize import sent_tokenize\n",
    "import numpy as np\n",
    "from gensim import corpora, models, similarities, utils\n",
    "from nltk.corpus import stopwords\n",
    "import nltk\n",
    "from nltk import SnowballStemmer\n",
    "from nltk import WordNetLemmatizer\n",
    "from collections import Counter\n",
    "from itertools import chain\n",
    "import time"
   ]
  },
  {
   "cell_type": "code",
   "execution_count": 22,
   "metadata": {
    "collapsed": true
   },
   "outputs": [],
   "source": [
    "raw_text = open('smaller_pat_text_db.txt','r').readlines()\n"
   ]
  },
  {
   "cell_type": "code",
   "execution_count": 11,
   "metadata": {
    "collapsed": true
   },
   "outputs": [],
   "source": [
    "tags_list = []\n",
    "words_list = []\n",
    "for idx, line in enumerate(raw_text):\n",
    "    tags = line[:7]\n",
    "    tags_list.append(tags)\n",
    "    words = gensim.utils.simple_preprocess(line[9:])\n",
    "    words_list.append(words)"
   ]
  },
  {
   "cell_type": "code",
   "execution_count": 23,
   "metadata": {
    "collapsed": false
   },
   "outputs": [],
   "source": [
    "stoplist = nltk.corpus.stopwords.words('english')   ## remove common stops words \n",
    "texts = [[word for word in para if word not in stoplist]for para in words_list]\n",
    "\n",
    "snowball = SnowballStemmer('english')     ## stemming \n",
    "texts = [[snowball.stem(word) for word in para ]for para in texts]\n",
    "\n",
    "#wordnet = WordNetLemmatizer()     ## lemmatizing \n",
    "#texts = [[wordnet.lemmatize(word) for word in para ]for para in texts]\n",
    "\n",
    "\n"
   ]
  },
  {
   "cell_type": "markdown",
   "metadata": {
    "collapsed": true
   },
   "source": [
    "start_time = time.time()\n",
    "c = Counter(chain.from_iterable(texts))  # remove words that apear only 1 times \n",
    "texts = [[word for word in x if c[word]>1] for x in texts]\n",
    "finish_time = time.time()"
   ]
  },
  {
   "cell_type": "code",
   "execution_count": 26,
   "metadata": {
    "collapsed": false
   },
   "outputs": [],
   "source": [
    "documents = [gensim.models.doc2vec.TaggedDocument(words = texts[i], tags = [tags_list[i]]) for i in range(len(tags_list))]\n"
   ]
  },
  {
   "cell_type": "code",
   "execution_count": 27,
   "metadata": {
    "collapsed": false
   },
   "outputs": [
    {
     "name": "stdout",
     "output_type": "stream",
     "text": [
      "26.2381660938\n"
     ]
    }
   ],
   "source": [
    "start_time_train = time.time()\n",
    "model = gensim.models.doc2vec.Doc2Vec(documents, size=100, window=5, alpha= 0.025, min_count=2, workers=4)\n",
    "finish_time_train = time.time()\n",
    "print (finish_time_train - start_time_train)"
   ]
  },
  {
   "cell_type": "code",
   "execution_count": 28,
   "metadata": {
    "collapsed": false
   },
   "outputs": [
    {
     "data": {
      "text/plain": [
       "[(u'cea', 0.4007986783981323),\n",
       " (u'hunter', 0.4004022181034088),\n",
       " (u'revet', 0.3986992835998535),\n",
       " (u'roof', 0.38387030363082886),\n",
       " (u'propel', 0.3821999132633209),\n",
       " (u'armrest', 0.37158429622650146),\n",
       " (u'trln', 0.35995203256607056),\n",
       " (u'synchron', 0.3587869703769684),\n",
       " (u'lengthi', 0.35743728280067444),\n",
       " (u'cool', 0.34865739941596985)]"
      ]
     },
     "execution_count": 28,
     "metadata": {},
     "output_type": "execute_result"
    }
   ],
   "source": [
    "model.similar_by_word('sport')"
   ]
  },
  {
   "cell_type": "code",
   "execution_count": 29,
   "metadata": {
    "collapsed": false
   },
   "outputs": [],
   "source": [
    "model.save('test_gensim')"
   ]
  },
  {
   "cell_type": "code",
   "execution_count": 30,
   "metadata": {
    "collapsed": false
   },
   "outputs": [],
   "source": [
    "model = gensim.models.doc2vec.Doc2Vec.load('test_gensim')"
   ]
  },
  {
   "cell_type": "code",
   "execution_count": 33,
   "metadata": {
    "collapsed": false
   },
   "outputs": [
    {
     "data": {
      "text/plain": [
       "array([-0.2173021 ,  0.07240559,  0.16004367, -0.01982694,  0.29123461,\n",
       "       -0.16472825, -0.11183794,  0.123831  , -0.11632535,  0.47452027,\n",
       "       -0.12825388, -0.08968541,  0.15143102,  0.01154449, -0.03236226,\n",
       "       -0.0099507 , -0.29150128, -0.22532921,  0.16571032,  0.09557136,\n",
       "       -0.07394423,  0.07166993, -0.25191733, -0.03538897, -0.15980725,\n",
       "       -0.13606897,  0.10088075, -0.07881651,  0.18765005, -0.01993422,\n",
       "       -0.10279408,  0.15659791,  0.10567181,  0.15713556,  0.42633703,\n",
       "       -0.17928088,  0.10043959, -0.14971404,  0.10135753, -0.33198863,\n",
       "        0.0592577 ,  0.24000163, -0.44616982, -0.25645921, -0.23866156,\n",
       "        0.08661848, -0.11417998,  0.08907832,  0.09086726,  0.05799196,\n",
       "        0.24282403,  0.16673864, -0.13213812, -0.24075507, -0.47209615,\n",
       "       -0.09948476,  0.17755874,  0.13403302, -0.32740667,  0.04035596,\n",
       "        0.01354454, -0.02924646, -0.26992649, -0.3543689 ,  0.22497112,\n",
       "       -0.170003  , -0.00961699, -0.07561329,  0.06892736,  0.38309997,\n",
       "       -0.14283289, -0.39149663, -0.09672976,  0.21662241, -0.14942352,\n",
       "       -0.00425952, -0.21561408,  0.08224805, -0.02893642, -0.10835182,\n",
       "        0.32304683,  0.05005718, -0.11044511, -0.02355316,  0.13879329,\n",
       "       -0.02607094, -0.00195495,  0.17267489, -0.05103747, -0.01248049,\n",
       "       -0.1274226 , -0.33992639, -0.12003653,  0.01902624, -0.07624278,\n",
       "       -0.23752101, -0.03893521, -0.0792686 , -0.08780373, -0.16517939], dtype=float32)"
      ]
     },
     "execution_count": 33,
     "metadata": {},
     "output_type": "execute_result"
    }
   ],
   "source": [
    "model.docvecs['7716768']"
   ]
  },
  {
   "cell_type": "code",
   "execution_count": 32,
   "metadata": {
    "collapsed": false
   },
   "outputs": [
    {
     "data": {
      "text/plain": [
       "[('7717195', 0.49665147066116333),\n",
       " ('7716839', 0.4792942404747009),\n",
       " ('7716897', 0.4726303815841675),\n",
       " ('7722117', 0.4506075382232666),\n",
       " ('7716874', 0.4428040385246277),\n",
       " ('7722260', 0.43813395500183105),\n",
       " ('7722353', 0.43539783358573914),\n",
       " ('7722258', 0.43473702669143677),\n",
       " ('7721391', 0.4303274154663086),\n",
       " ('7716867', 0.429928719997406),\n",
       " ('7717240', 0.42806586623191833),\n",
       " ('7717029', 0.42493247985839844),\n",
       " ('7716777', 0.4226253628730774),\n",
       " ('7716790', 0.42244675755500793),\n",
       " ('7721932', 0.40829944610595703),\n",
       " ('7717292', 0.40581995248794556),\n",
       " ('7716794', 0.40547025203704834),\n",
       " ('7716884', 0.4050547480583191),\n",
       " ('7717154', 0.4048568606376648),\n",
       " ('7716855', 0.4042290151119232)]"
      ]
     },
     "execution_count": 32,
     "metadata": {},
     "output_type": "execute_result"
    }
   ],
   "source": [
    "model.docvecs.most_similar('7716768',topn=20)"
   ]
  }
 ],
 "metadata": {
  "anaconda-cloud": {},
  "kernelspec": {
   "display_name": "Python [default]",
   "language": "python",
   "name": "python2"
  },
  "language_info": {
   "codemirror_mode": {
    "name": "ipython",
    "version": 2
   },
   "file_extension": ".py",
   "mimetype": "text/x-python",
   "name": "python",
   "nbconvert_exporter": "python",
   "pygments_lexer": "ipython2",
   "version": "2.7.12"
  }
 },
 "nbformat": 4,
 "nbformat_minor": 0
}

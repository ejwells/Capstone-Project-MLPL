{
 "cells": [
  {
   "cell_type": "code",
   "execution_count": 27,
   "metadata": {
    "collapsed": false
   },
   "outputs": [],
   "source": [
    "import sys\n",
    "import re\n",
    "import urllib3\n",
    "import ssl\n",
    "from pdfminer.pdfinterp import PDFResourceManager, PDFPageInterpreter\n",
    "from pdfminer.pdfpage import PDFPage\n",
    "from pdfminer.converter import XMLConverter, HTMLConverter, TextConverter\n",
    "from pdfminer.layout import LAParams\n",
    "from cStringIO import StringIO"
   ]
  },
  {
   "cell_type": "code",
   "execution_count": 28,
   "metadata": {
    "collapsed": false
   },
   "outputs": [],
   "source": [
    "def pdfparser(data):\n",
    "    fp = file(data, 'rb')\n",
    "    rsrcmgr = PDFResourceManager()\n",
    "    retstr = StringIO()\n",
    "    codec = 'utf-8'\n",
    "    laparams = LAParams()\n",
    "    device = TextConverter(rsrcmgr, retstr, codec=codec, laparams=laparams)\n",
    "    # Create a PDF interpreter object.\n",
    "    interpreter = PDFPageInterpreter(rsrcmgr, device)\n",
    "    # Process each page contained in the document.\n",
    "\n",
    "    for page in PDFPage.get_pages(fp):\n",
    "        interpreter.process_page(page)\n",
    "        data =  retstr.getvalue()\n",
    "\n",
    "    return data"
   ]
  },
  {
   "cell_type": "code",
   "execution_count": 29,
   "metadata": {
    "collapsed": false
   },
   "outputs": [],
   "source": [
    "def pdffinder(patentnumber, trialnumber):\n",
    "    webaddress = \"https://ptabdata.uspto.gov/ptab-api/trials/\"\n",
    "    url = webaddress+trialnumber\n",
    "    http = urllib3.PoolManager()\n",
    "    r = http.request('GET', url)\n",
    "    webdata = r.data\n",
    "    check = webdata.find('FWD Entered')\n",
    "    if check == -1:\n",
    "        return None, 0\n",
    "    start_link = webdata.find('documents')\n",
    "    start_quote = webdata.find('\"https:', start_link)\n",
    "    end_quote = webdata.find('\"', start_quote + 1)\n",
    "    link = webdata[start_quote + 1:end_quote]\n",
    "    \n",
    "    s = http.request('GET', link)\n",
    "    value = s.data\n",
    "    start_pdf = value.find('\"type\" : \"final decision\"')\n",
    "    rel_download = value.find('download', start_pdf)\n",
    "    start_pdflink = value.find('\"https:', rel_download)\n",
    "    end_pdflink = value.find('\"', start_pdflink + 1)\n",
    "    pdflink = value[start_pdflink + 1:end_pdflink]\n",
    "    return pdflink"
   ]
  },
  {
   "cell_type": "code",
   "execution_count": 30,
   "metadata": {
    "collapsed": true
   },
   "outputs": [],
   "source": [
    "def datamine(web):\n",
    "    ctx = ssl.create_default_context()\n",
    "    ctx.check_hostname = False\n",
    "    ctx.verify_mode = ssl.CERT_NONE\n",
    "\n",
    "    f = urllib.urlopen(web, context=ctx)\n",
    "    with open(\"temp.pdf\", \"wb\") as code:\n",
    "        code.write(f.read())\n",
    "\n",
    "    text = pdfparser(\"temp.pdf\")\n",
    "    searchObj = re.compile( r'\\d,\\d\\d\\d,\\d\\d\\d',re.IGNORECASE)\n",
    "    numbers = searchObj.findall(text)\n",
    "    numbers = list(set(numbers))\n",
    "    similar_numbers = [x for x in numbers if x != patentnumber]  \n",
    "\n",
    "    return similar_numbers"
   ]
  },
  {
   "cell_type": "code",
   "execution_count": 31,
   "metadata": {
    "collapsed": false
   },
   "outputs": [],
   "source": [
    "patentnumber = '7,860,222'\n",
    "trialnumber = \"IPR2014-01278\"\n",
    "x = pdffinder(patentnumber,trialnumber)\n",
    "y = datamine(x)"
   ]
  },
  {
   "cell_type": "code",
   "execution_count": 32,
   "metadata": {
    "collapsed": false
   },
   "outputs": [
    {
     "name": "stdout",
     "output_type": "stream",
     "text": [
      "['7,191,133', '6,141,406', '6,064,963', '6,668,045']\n"
     ]
    }
   ],
   "source": [
    "print y"
   ]
  },
  {
   "cell_type": "code",
   "execution_count": null,
   "metadata": {
    "collapsed": true
   },
   "outputs": [],
   "source": []
  }
 ],
 "metadata": {
  "anaconda-cloud": {},
  "kernelspec": {
   "display_name": "Python [default]",
   "language": "python",
   "name": "python2"
  },
  "language_info": {
   "codemirror_mode": {
    "name": "ipython",
    "version": 2
   },
   "file_extension": ".py",
   "mimetype": "text/x-python",
   "name": "python",
   "nbconvert_exporter": "python",
   "pygments_lexer": "ipython2",
   "version": "2.7.12"
  }
 },
 "nbformat": 4,
 "nbformat_minor": 1
}

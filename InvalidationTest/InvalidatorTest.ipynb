{
 "cells": [
  {
   "cell_type": "code",
   "execution_count": 68,
   "metadata": {
    "collapsed": false
   },
   "outputs": [],
   "source": [
    "import os\n",
    "import re\n",
    "import csv\n",
    "def similarity_search(Patent):\n",
    "    Alpha = []\n",
    "    PatentsUSED = []\n",
    "    f = open('Invalidations.csv', 'rb')\n",
    "    reader = csv.reader(f)\n",
    "    List = list(reader)\n",
    "    f.close()\n",
    "    for idx in range(0, len(List)):\n",
    "        temp = filter(None, List[idx])\n",
    "        Alpha.append(temp)  \n",
    "    for lst in Alpha:\n",
    "        if lst[0] == Patent:\n",
    "            for elt in lst[1:len(lst)]:\n",
    "                PatentsUSED.append(elt)\n",
    "    return PatentsUSED\n",
    "    \n",
    "def similarity_rank(PatentSimilarList, File):\n",
    "    PatentRank = []\n",
    "    with open(File) as f:\n",
    "        reading = f.read().splitlines()\n",
    "        for idx, line in enumerate(reading):\n",
    "            if any(x in line for x in PatentSimilarList):\n",
    "                x = line.replace(\"'\", \"\")\n",
    "                PatentRank.append([x,idx])   \n",
    "    return PatentRank\n"
   ]
  },
  {
   "cell_type": "code",
   "execution_count": 69,
   "metadata": {
    "collapsed": false
   },
   "outputs": [
    {
     "name": "stdout",
     "output_type": "stream",
     "text": [
      "[['3687220', 8]]\n",
      "[['7260073', 1], ['8572250', 3]]\n"
     ]
    }
   ],
   "source": [
    "directory = 'Files'\n",
    "for filename in os.listdir(directory):\n",
    "    if filename.endswith('.txt'): \n",
    "        with open(directory + '/' + filename) as File:\n",
    "            PatentSearched = re.findall(r'File_(.*?).txt',filename)\n",
    "            PatentSearched = ''.join(PatentSearched)\n",
    "            PatentFile = directory + '/' + filename\n",
    "            PatentsUSED = similarity_search(PatentSearched)\n",
    "            Ranked = similarity_rank(PatentsUSED, PatentFile)\n",
    "            print Ranked\n",
    "            newfilename = 'Output_' + PatentSearched + '.txt'\n",
    "            outputdirectory = 'Output'\n",
    "            with open(outputdirectory + '/' + newfilename, 'w') as file_handler:\n",
    "                for item in Ranked:     \n",
    "                    file_handler.write(\"%s\\n\" % ','.join(map(repr, item)))"
   ]
  },
  {
   "cell_type": "code",
   "execution_count": null,
   "metadata": {
    "collapsed": false
   },
   "outputs": [],
   "source": []
  }
 ],
 "metadata": {
  "anaconda-cloud": {},
  "kernelspec": {
   "display_name": "Python [default]",
   "language": "python",
   "name": "python2"
  },
  "language_info": {
   "codemirror_mode": {
    "name": "ipython",
    "version": 2
   },
   "file_extension": ".py",
   "mimetype": "text/x-python",
   "name": "python",
   "nbconvert_exporter": "python",
   "pygments_lexer": "ipython2",
   "version": "2.7.12"
  }
 },
 "nbformat": 4,
 "nbformat_minor": 1
}

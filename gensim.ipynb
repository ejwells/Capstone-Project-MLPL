{
 "cells": [
  {
   "cell_type": "code",
   "execution_count": 1,
   "metadata": {
    "collapsed": false
   },
   "outputs": [
    {
     "name": "stderr",
     "output_type": "stream",
     "text": [
      "/home/nitu/anaconda3/lib/python3.5/site-packages/gensim/utils.py:1015: UserWarning: Pattern library is not installed, lemmatization won't be available.\n",
      "  warnings.warn(\"Pattern library is not installed, lemmatization won't be available.\")\n"
     ]
    }
   ],
   "source": [
    "import gensim\n",
    "from nltk.tokenize import sent_tokenize\n",
    "import numpy as np"
   ]
  },
  {
   "cell_type": "code",
   "execution_count": 2,
   "metadata": {
    "collapsed": true
   },
   "outputs": [],
   "source": [
    "text = open('smaller_pat_text_db.txt','r').readlines()"
   ]
  },
  {
   "cell_type": "code",
   "execution_count": 3,
   "metadata": {
    "collapsed": true
   },
   "outputs": [],
   "source": [
    "tags_list = []\n",
    "words_list = []\n",
    "for idx, line in enumerate(text):\n",
    "    tags = line[:7]\n",
    "    tags_list.append(tags)\n",
    "    words = gensim.utils.simple_preprocess(line[9:])\n",
    "    words_list.append(words)"
   ]
  },
  {
   "cell_type": "code",
   "execution_count": 4,
   "metadata": {
    "collapsed": false
   },
   "outputs": [],
   "source": [
    "documents = [gensim.models.doc2vec.TaggedDocument(words = words_list[i], tags = [tags_list[i]]) for i in range(len(tags_list))]"
   ]
  },
  {
   "cell_type": "code",
   "execution_count": 13,
   "metadata": {
    "collapsed": true
   },
   "outputs": [],
   "source": [
    "import time"
   ]
  },
  {
   "cell_type": "code",
   "execution_count": 36,
   "metadata": {
    "collapsed": false
   },
   "outputs": [
    {
     "name": "stdout",
     "output_type": "stream",
     "text": [
      "130.19199776649475\n"
     ]
    }
   ],
   "source": [
    "start_time = time.time()\n",
    "model = gensim.models.doc2vec.Doc2Vec(documents, size=100, window=5, alpha= 0.025, min_count=2, workers=1)\n",
    "finish_time = time.time()\n",
    "print (finish_time - start_time)"
   ]
  },
  {
   "cell_type": "code",
   "execution_count": 185,
   "metadata": {
    "collapsed": false
   },
   "outputs": [
    {
     "data": {
      "text/plain": [
       "[('absorbing', 0.6487500071525574),\n",
       " ('interchangeable', 0.620028018951416),\n",
       " ('guidance', 0.6166790127754211),\n",
       " ('comfortable', 0.5885683298110962),\n",
       " ('footwear', 0.5636926889419556),\n",
       " ('yielding', 0.5568827986717224),\n",
       " ('parameter', 0.5530879497528076),\n",
       " ('detachable', 0.5508886575698853),\n",
       " ('lips', 0.5416818857192993),\n",
       " ('granting', 0.5384287238121033)]"
      ]
     },
     "execution_count": 185,
     "metadata": {},
     "output_type": "execute_result"
    }
   ],
   "source": [
    "model.similar_by_word('sports')"
   ]
  },
  {
   "cell_type": "code",
   "execution_count": 186,
   "metadata": {
    "collapsed": false
   },
   "outputs": [],
   "source": [
    "model.save('test_gensim')"
   ]
  },
  {
   "cell_type": "code",
   "execution_count": 187,
   "metadata": {
    "collapsed": false
   },
   "outputs": [],
   "source": [
    "model = gensim.models.doc2vec.Doc2Vec.load('test_gensim')"
   ]
  },
  {
   "cell_type": "code",
   "execution_count": 194,
   "metadata": {
    "collapsed": false
   },
   "outputs": [
    {
     "data": {
      "text/plain": [
       "array([ 0.29589799,  0.11402573, -0.30517969, -0.19875853, -0.03314601,\n",
       "        0.12411318, -0.09781979,  0.06785763, -0.05162757, -0.2848047 ,\n",
       "        0.01875992, -0.04583281, -0.11978359, -0.13086778, -0.0389831 ,\n",
       "       -0.06120919,  0.46613833, -0.22711909, -0.00914508,  0.2980451 ,\n",
       "        0.14003018, -0.15832575,  0.03370771, -0.16108117, -0.11886352,\n",
       "       -0.28084564,  0.18996254,  0.18816639, -0.2909548 ,  0.04285126,\n",
       "        0.18695611,  0.01786703, -0.05797518, -0.110099  ,  0.05262052,\n",
       "       -0.100471  ,  0.04926275, -0.05166993, -0.02050521,  0.01058881,\n",
       "       -0.1168156 , -0.03740692,  0.00835117, -0.37817553, -0.31271711,\n",
       "       -0.05398713, -0.10401127, -0.09247904, -0.35197398, -0.27025664,\n",
       "       -0.31725949, -0.08045257, -0.18993498, -0.12184976, -0.16206124,\n",
       "       -0.18293884, -0.0095755 ,  0.05108625,  0.04338339, -0.04674258,\n",
       "        0.19604923, -0.07127104,  0.14590755, -0.13735113,  0.31814227,\n",
       "        0.08793846,  0.09552491, -0.14700685,  0.21227038, -0.08955804,\n",
       "        0.19377103, -0.37472513,  0.05133018, -0.19521476,  0.14628421,\n",
       "        0.12632009, -0.11198026, -0.02092208, -0.04640113, -0.20287693,\n",
       "        0.63869697,  0.05262392, -0.14318728, -0.04888261,  0.09991042,\n",
       "       -0.06180004,  0.17279539,  0.0249259 , -0.01391053, -0.01750744,\n",
       "        0.08206018, -0.25170517, -0.16279992,  0.04745009,  0.08201321,\n",
       "       -0.07208596, -0.03988424, -0.14182439,  0.13211036,  0.03604941], dtype=float32)"
      ]
     },
     "execution_count": 194,
     "metadata": {},
     "output_type": "execute_result"
    }
   ],
   "source": [
    "model.docvecs['6836901']"
   ]
  },
  {
   "cell_type": "code",
   "execution_count": 195,
   "metadata": {
    "collapsed": false
   },
   "outputs": [
    {
     "data": {
      "text/plain": [
       "[('6836912', 0.5505481958389282),\n",
       " ('6836924', 0.5230085849761963),\n",
       " ('6836926', 0.4550435543060303),\n",
       " ('6836914', 0.44978994131088257),\n",
       " ('6836907', 0.4479324221611023),\n",
       " ('6836927', 0.4280964434146881),\n",
       " ('6836925', 0.4051937758922577),\n",
       " ('6836978', 0.3559795618057251),\n",
       " ('6836979', 0.3257198929786682),\n",
       " ('6836913', 0.3079473674297333)]"
      ]
     },
     "execution_count": 195,
     "metadata": {},
     "output_type": "execute_result"
    }
   ],
   "source": [
    "model.docvecs.most_similar('6836901')"
   ]
  },
  {
   "cell_type": "code",
   "execution_count": null,
   "metadata": {
    "collapsed": true
   },
   "outputs": [],
   "source": []
  }
 ],
 "metadata": {
  "anaconda-cloud": {},
  "kernelspec": {
   "display_name": "Python [Root]",
   "language": "python",
   "name": "Python [Root]"
  },
  "language_info": {
   "codemirror_mode": {
    "name": "ipython",
    "version": 3
   },
   "file_extension": ".py",
   "mimetype": "text/x-python",
   "name": "python",
   "nbconvert_exporter": "python",
   "pygments_lexer": "ipython3",
   "version": "3.5.2"
  }
 },
 "nbformat": 4,
 "nbformat_minor": 0
}

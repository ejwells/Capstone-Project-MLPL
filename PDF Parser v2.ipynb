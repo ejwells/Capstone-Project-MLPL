{
 "cells": [
  {
   "cell_type": "code",
   "execution_count": 15,
   "metadata": {
    "collapsed": false
   },
   "outputs": [
    {
     "name": "stderr",
     "output_type": "stream",
     "text": [
      "C:\\Users\\Findable Turnip\\Anaconda2\\lib\\site-packages\\ipykernel\\__main__.py:12: DeprecationWarning: The compiler package is deprecated and removed in Python 3.x.\n"
     ]
    }
   ],
   "source": [
    "import sys\n",
    "import re\n",
    "import os\n",
    "import urllib\n",
    "import urllib3\n",
    "import ssl\n",
    "from pdfminer.pdfinterp import PDFResourceManager, PDFPageInterpreter\n",
    "from pdfminer.pdfpage import PDFPage\n",
    "from pdfminer.converter import XMLConverter, HTMLConverter, TextConverter\n",
    "from pdfminer.layout import LAParams\n",
    "from cStringIO import StringIO\n",
    "from compiler.ast import flatten"
   ]
  },
  {
   "cell_type": "code",
   "execution_count": 16,
   "metadata": {
    "collapsed": false
   },
   "outputs": [],
   "source": [
    "def cases(data):\n",
    "    check = data.find('\"rel\" : \"documents\"')\n",
    "    start_link = data.find('\"https:', check)\n",
    "    end_link = data.find('\"', start_link + 1)\n",
    "    link = data[start_link + 1:end_link]\n",
    "    return link, end_link"
   ]
  },
  {
   "cell_type": "code",
   "execution_count": 17,
   "metadata": {
    "collapsed": true
   },
   "outputs": [],
   "source": [
    "def get_all_cases(patentnumber):\n",
    "    webaddress = \"https://ptabdata.uspto.gov/ptab-api/trials?patentNumber=\"\n",
    "    url = webaddress+patentnumber\n",
    "    http = urllib3.PoolManager()\n",
    "    x = http.request('GET', url)\n",
    "    webdata = x.data\n",
    "    caseslinks = []\n",
    "    while True:\n",
    "        link, position = cases(webdata)\n",
    "        if link:\n",
    "            caseslinks.append(link)\n",
    "            webdata = webdata[position:]\n",
    "        else:\n",
    "            break\n",
    "    return caseslinks      "
   ]
  },
  {
   "cell_type": "code",
   "execution_count": 18,
   "metadata": {
    "collapsed": true
   },
   "outputs": [],
   "source": [
    "def pdfparser(data):\n",
    "    fp = file(data, 'rb')\n",
    "    rsrcmgr = PDFResourceManager()\n",
    "    retstr = StringIO()\n",
    "    codec = 'utf-8'\n",
    "    laparams = LAParams()\n",
    "    device = TextConverter(rsrcmgr, retstr, codec=codec, laparams=laparams)\n",
    "    # Create a PDF interpreter object.\n",
    "    interpreter = PDFPageInterpreter(rsrcmgr, device)\n",
    "    # Process each page contained in the document.\n",
    "\n",
    "    for page in PDFPage.get_pages(fp):\n",
    "        interpreter.process_page(page)\n",
    "        data =  retstr.getvalue()\n",
    "    fp.close()\n",
    "\n",
    "    return data"
   ]
  },
  {
   "cell_type": "code",
   "execution_count": 19,
   "metadata": {
    "collapsed": true
   },
   "outputs": [],
   "source": [
    "def downloadpdf(patentnumber, web):\n",
    "    ctx = ssl.create_default_context()\n",
    "    ctx.check_hostname = False\n",
    "    ctx.verify_mode = ssl.CERT_NONE\n",
    "    \n",
    "    f = urllib.urlopen(web, context=ctx)\n",
    "    with open(\"temp.pdf\", \"wb\") as code:\n",
    "        code.write(f.read())\n",
    "    \n",
    "    text = pdfparser(\"temp.pdf\")\n",
    "    searchObj = re.compile( r'\\b\\d,\\d\\d\\d,\\d\\d\\d',re.IGNORECASE)\n",
    "    numbers = searchObj.findall(text)\n",
    "    numbers = list(set(numbers))\n",
    "    patentnumber = patentnumber[:1] + ',' + patentnumber [1:4] + ',' + patentnumber[4:]\n",
    "    similar_numbers = [z for z in numbers if z != patentnumber]  \n",
    "    os.remove(\"temp.pdf\")\n",
    "    \n",
    "    return similar_numbers"
   ]
  },
  {
   "cell_type": "code",
   "execution_count": 20,
   "metadata": {
    "collapsed": true
   },
   "outputs": [],
   "source": [
    "def numbers_lookup(patentnumber, multiplelinks):\n",
    "    numbersfound = []\n",
    "    for link in multiplelinks:\n",
    "        http = urllib3.PoolManager()\n",
    "        y = http.request('GET', link)\n",
    "        casedata = y.data\n",
    "        start_pdf = casedata.find('\"type\" : \"final decision\"')\n",
    "        if start_pdf != -1:\n",
    "            rel_download = casedata.find('download', start_pdf)\n",
    "            start_pdflink = casedata.find('\"https:', rel_download)\n",
    "            end_pdflink = casedata.find('\"', start_pdflink + 1)\n",
    "            pdflink = casedata[start_pdflink + 1:end_pdflink]\n",
    "            tempvalue = downloadpdf(patentnumber, pdflink)\n",
    "            if tempvalue:\n",
    "                numbersfound.append(tempvalue)\n",
    "    \n",
    "    patentnumberfound = list(set(flatten(numbersfound)))\n",
    "    return patentnumberfound"
   ]
  },
  {
   "cell_type": "code",
   "execution_count": 21,
   "metadata": {
    "collapsed": false
   },
   "outputs": [
    {
     "name": "stdout",
     "output_type": "stream",
     "text": [
      "['7,459,664', '5,550,677', '4,645,975']\n"
     ]
    }
   ],
   "source": [
    "patentnumber = '7423248'\n",
    "a = get_all_cases(patentnumber)\n",
    "b = numbers_lookup(patentnumber, a)\n",
    "print b"
   ]
  },
  {
   "cell_type": "code",
   "execution_count": null,
   "metadata": {
    "collapsed": true
   },
   "outputs": [],
   "source": []
  }
 ],
 "metadata": {
  "anaconda-cloud": {},
  "kernelspec": {
   "display_name": "Python [default]",
   "language": "python",
   "name": "python2"
  },
  "language_info": {
   "codemirror_mode": {
    "name": "ipython",
    "version": 2
   },
   "file_extension": ".py",
   "mimetype": "text/x-python",
   "name": "python",
   "nbconvert_exporter": "python",
   "pygments_lexer": "ipython2",
   "version": "2.7.12"
  }
 },
 "nbformat": 4,
 "nbformat_minor": 1
}
